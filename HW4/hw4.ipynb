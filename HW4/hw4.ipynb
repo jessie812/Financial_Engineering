{
 "cells": [
  {
   "cell_type": "code",
   "execution_count": 1,
   "metadata": {},
   "outputs": [
    {
     "name": "stdout",
     "output_type": "stream",
     "text": [
      "Please enter current stock price($)= 75\n",
      "Please enter 震盪率(%)= 35\n",
      "Please enter # of dividends annually(1 or 2 or 4)= 2\n",
      "Please enter dividend ($/per)= 1\n",
      "Please enter forward price($)=65\n",
      "Please enter expected rate(%)= 6\n",
      "Please enter maturity(month)= 6\n"
     ]
    }
   ],
   "source": [
    "s=float(input(\"Please enter current stock price($)= \"))\n",
    "sigma=float(input(\"Please enter 震盪率(%)= \"))*0.01\n",
    "d_period=int(input(\"Please enter # of dividends annually(1 or 2 or 4)= \"))\n",
    "d=int(input(\"Please enter dividend ($/per)= \"))\n",
    "x=float(input(\"Please enter forward price($)=\"))\n",
    "r=float(input(\"Please enter expected rate(%)= \"))*0.01\n",
    "t=int(input(\"Please enter maturity(month)= \"))/12"
   ]
  },
  {
   "cell_type": "code",
   "execution_count": 2,
   "metadata": {},
   "outputs": [],
   "source": [
    "#preliminary work\n",
    "from math import exp, log, e, sqrt\n",
    "from scipy.stats import norm\n",
    "def ln(x):\n",
    "    return log(x,e)"
   ]
  },
  {
   "cell_type": "code",
   "execution_count": 3,
   "metadata": {},
   "outputs": [],
   "source": [
    "#set dividend\n",
    "D=0\n",
    "if d_period==1:\n",
    "    D=d*exp(-r*(1/12))\n",
    "elif d_period==2:\n",
    "    D=d*(exp(-r*(1/12))+exp(-r*(4/12)))\n",
    "else:\n",
    "    D=d*(exp(-r*(1/12))+exp(-r*(4/12))+exp(-r*(7/12))+exp(-r*(10/12)))"
   ]
  },
  {
   "cell_type": "code",
   "execution_count": 4,
   "metadata": {},
   "outputs": [],
   "source": [
    "#find d1 and d2\n",
    "head_s=s-D\n",
    "d1=(ln(head_s/x)+(r+(sigma**2)/2)*t)/(sigma*sqrt(t))\n",
    "d2=d1-sigma*sqrt(t)"
   ]
  },
  {
   "cell_type": "code",
   "execution_count": 6,
   "metadata": {},
   "outputs": [
    {
     "name": "stdout",
     "output_type": "stream",
     "text": [
      "The call price is=$ 12.806\n",
      "The put price is=$ 2.86\n"
     ]
    }
   ],
   "source": [
    "#call and put\n",
    "c=round(head_s*norm.cdf(d1)-x*exp(-r*t)*norm.cdf(d2),3)\n",
    "p=round(x*exp(-r*t)*norm.cdf(-d2)-head_s*norm.cdf(-d1),3)\n",
    "print(\"The call price is=$\",c)\n",
    "print(\"The put price is=$\",p)"
   ]
  },
  {
   "cell_type": "code",
   "execution_count": null,
   "metadata": {},
   "outputs": [],
   "source": []
  }
 ],
 "metadata": {
  "kernelspec": {
   "display_name": "Python 3",
   "language": "python",
   "name": "python3"
  },
  "language_info": {
   "codemirror_mode": {
    "name": "ipython",
    "version": 3
   },
   "file_extension": ".py",
   "mimetype": "text/x-python",
   "name": "python",
   "nbconvert_exporter": "python",
   "pygments_lexer": "ipython3",
   "version": "3.7.3"
  }
 },
 "nbformat": 4,
 "nbformat_minor": 2
}
